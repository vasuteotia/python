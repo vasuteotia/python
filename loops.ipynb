{
 "cells": [
  {
   "cell_type": "markdown",
   "metadata": {},
   "source": [
    "## for loop:"
   ]
  },
  {
   "cell_type": "raw",
   "metadata": {},
   "source": [
    "#The for loop in Python is used to iterate over a sequence (list, tuple, string) or other iterable objects. Iterating over a sequence is called traversal.\n",
    "\n",
    "#Syntax of for Loop\n",
    "     for val in sequence:\n",
    "         Body of for\n",
    "#Here, val is the variable that takes the value of the item inside the sequence on each iteration.\n",
    "\n",
    "#Loop continues until we reach the last item in the sequence. The body of for loop is separated from the rest of the code using indentation."
   ]
  },
  {
   "cell_type": "code",
   "execution_count": 8,
   "metadata": {},
   "outputs": [
    {
     "name": "stdout",
     "output_type": "stream",
     "text": [
      "65\n",
      "76\n",
      "34\n",
      "23\n"
     ]
    }
   ],
   "source": [
    "for i in [65,76,34,23]:\n",
    "    print(i)"
   ]
  },
  {
   "cell_type": "code",
   "execution_count": 5,
   "metadata": {},
   "outputs": [
    {
     "name": "stdout",
     "output_type": "stream",
     "text": [
      "apple\n",
      "orange\n",
      "banana\n",
      "mango\n",
      "grapes\n"
     ]
    }
   ],
   "source": [
    "for fruit in ('apple','orange','banana','mango','grapes'):\n",
    "    print(fruit)\n"
   ]
  },
  {
   "cell_type": "code",
   "execution_count": 6,
   "metadata": {},
   "outputs": [
    {
     "name": "stdout",
     "output_type": "stream",
     "text": [
      "mca final\n",
      "village piyala\n",
      "8750377097\n",
      "sahil\n"
     ]
    }
   ],
   "source": [
    "for detail in {'sahil','village piyala','mca final',8750377097}:\n",
    "    print(detail)"
   ]
  },
  {
   "cell_type": "code",
   "execution_count": 7,
   "metadata": {},
   "outputs": [
    {
     "name": "stdout",
     "output_type": "stream",
     "text": [
      "33\n",
      "69\n",
      "879\n",
      "85\n",
      "55\n"
     ]
    }
   ],
   "source": [
    "for num in {85,69,55,879,33}:\n",
    "    print(num)"
   ]
  },
  {
   "cell_type": "code",
   "execution_count": 10,
   "metadata": {},
   "outputs": [
    {
     "name": "stdout",
     "output_type": "stream",
     "text": [
      "(8, 'rahul')\n",
      "(39, 'bhati')\n",
      "(23, 'rajeev')\n",
      "(17, 'sahil')\n"
     ]
    }
   ],
   "source": [
    "for extra in {(17,'sahil'),(23,'rajeev'),(39,'bhati'),(8,'rahul')}:\n",
    "    print(extra)"
   ]
  },
  {
   "cell_type": "code",
   "execution_count": 12,
   "metadata": {},
   "outputs": [
    {
     "name": "stdout",
     "output_type": "stream",
     "text": [
      "(8, 'rahul')\n",
      "(39, 'bhati')\n",
      "(23, 'rajeev')\n",
      "(17, 'sahil')\n"
     ]
    }
   ],
   "source": [
    "dict_1={(17,'sahil'),(23,'rajeev'),(39,'bhati'),(8,'rahul')}\n",
    "for x in dict_1:\n",
    "    print(x)"
   ]
  },
  {
   "cell_type": "code",
   "execution_count": 19,
   "metadata": {},
   "outputs": [
    {
     "name": "stdout",
     "output_type": "stream",
     "text": [
      "red apple\n",
      "red banana\n",
      "red grapes\n",
      "red mango\n",
      "yellow apple\n",
      "yellow banana\n",
      "yellow grapes\n",
      "yellow mango\n",
      "green apple\n",
      "green banana\n",
      "green grapes\n",
      "green mango\n",
      "yellow apple\n",
      "yellow banana\n",
      "yellow grapes\n",
      "yellow mango\n"
     ]
    }
   ],
   "source": [
    "fruit=['apple','banana','grapes','mango']\n",
    "colors=['red','yellow','green','yellow']\n",
    "for x in colors:\n",
    "    for y in fruit:\n",
    "        print(x,y)\n",
    "        "
   ]
  },
  {
   "cell_type": "code",
   "execution_count": 31,
   "metadata": {},
   "outputs": [
    {
     "name": "stdout",
     "output_type": "stream",
     "text": [
      "hii sahil\n",
      "hii sourav\n",
      "hii rajeev\n",
      "hii swaroop\n"
     ]
    }
   ],
   "source": [
    "a={'hii'}\n",
    "b=['sahil','sourav','rajeev','swaroop']\n",
    "for x in a:\n",
    "    for y in b:\n",
    "        print(x,y)\n"
   ]
  },
  {
   "cell_type": "code",
   "execution_count": 32,
   "metadata": {},
   "outputs": [
    {
     "name": "stdout",
     "output_type": "stream",
     "text": [
      "(1, 'hii') sahil\n",
      "(1, 'hii') sourav\n",
      "(1, 'hii') rajeev\n",
      "(1, 'hii') swaroop\n",
      "(2, 'byye') sahil\n",
      "(2, 'byye') sourav\n",
      "(2, 'byye') rajeev\n",
      "(2, 'byye') swaroop\n"
     ]
    }
   ],
   "source": [
    "a={(1,'hii'),(2,'byye')}\n",
    "b=['sahil','sourav','rajeev','swaroop']\n",
    "for x in a:\n",
    "    for y in b:\n",
    "        print(x,y)"
   ]
  },
  {
   "cell_type": "code",
   "execution_count": 36,
   "metadata": {},
   "outputs": [
    {
     "name": "stdout",
     "output_type": "stream",
     "text": [
      "0\n",
      "1\n",
      "2\n",
      "3\n",
      "4\n",
      "5\n",
      "6\n",
      "7\n",
      "8\n",
      "9\n"
     ]
    }
   ],
   "source": [
    "for i in range(10):\n",
    "    print(i)"
   ]
  },
  {
   "cell_type": "code",
   "execution_count": 47,
   "metadata": {},
   "outputs": [
    {
     "name": "stdout",
     "output_type": "stream",
     "text": [
      "enter the number for which u want the table:34\n",
      "THIS IS THE TABLE OF 34\n",
      "34 * 1 = 34\n",
      "34 * 2 = 68\n",
      "34 * 3 = 102\n",
      "34 * 4 = 136\n",
      "34 * 5 = 170\n",
      "34 * 6 = 204\n",
      "34 * 7 = 238\n",
      "34 * 8 = 272\n",
      "34 * 9 = 306\n",
      "34 * 10 = 340\n"
     ]
    }
   ],
   "source": [
    "#program for printing the table of a number:\n",
    "x=int(input('enter the number for which u want the table:'))\n",
    "print('THIS IS THE TABLE OF',x)\n",
    "for i in range(1,11):\n",
    "    print(x,'*',i,'=',x*i)"
   ]
  },
  {
   "cell_type": "code",
   "execution_count": 55,
   "metadata": {},
   "outputs": [
    {
     "name": "stdout",
     "output_type": "stream",
     "text": [
      "290\n"
     ]
    }
   ],
   "source": [
    "x=[76,78,45,2,89]\n",
    "a=0\n",
    "for i in x:\n",
    "    a=a+i\n",
    "print(a)    "
   ]
  },
  {
   "cell_type": "code",
   "execution_count": 59,
   "metadata": {},
   "outputs": [
    {
     "name": "stdout",
     "output_type": "stream",
     "text": [
      "enter the lower range:50\n",
      "enter the upper range:60\n",
      "545\n"
     ]
    }
   ],
   "source": [
    "#program for finding the sum of a sequence of nos:\n",
    "min=int(input('enter the lower range:'))\n",
    "max=int(input('enter the upper range:'))\n",
    "x=0\n",
    "for i in range(min,max):\n",
    "    x=x+i\n",
    "print(x)    "
   ]
  },
  {
   "cell_type": "code",
   "execution_count": 4,
   "metadata": {},
   "outputs": [
    {
     "name": "stdout",
     "output_type": "stream",
     "text": [
      "enter the no. to calculate factorial:10\n",
      "factorial of 10 is 3628800\n"
     ]
    }
   ],
   "source": [
    "#program for factorial of a no:\n",
    "num=int(input('enter the no. to calculate factorial:'))\n",
    "x=1\n",
    "if num<0:\n",
    "    print('factorial does not exist for negetive no.')\n",
    "elif num==0:\n",
    "    print('factorial of 0 is 1')\n",
    "else:\n",
    "    for i in range(1,num+1):\n",
    "        x=x*i\n",
    "if num>0:\n",
    "    print('factorial of',num,'is',x)"
   ]
  },
  {
   "cell_type": "markdown",
   "metadata": {},
   "source": [
    "#### for loop with else"
   ]
  },
  {
   "cell_type": "raw",
   "metadata": {},
   "source": [
    "#A for loop can have an optional else block as well. The else part is executed if the items in the sequence used in for loop    exhausts.\n",
    "\n",
    "#break statement can be used to stop a for loop. In such case, the else part is ignored."
   ]
  },
  {
   "cell_type": "code",
   "execution_count": 2,
   "metadata": {},
   "outputs": [
    {
     "name": "stdout",
     "output_type": "stream",
     "text": [
      "0\n",
      "1\n",
      "5\n",
      "8\n",
      "7\n",
      "no items left.\n"
     ]
    }
   ],
   "source": [
    "digits=[0,1,5,8,7]\n",
    "for i in digits:\n",
    "    print(i)\n",
    "else:\n",
    "    print(\"no items left.\")"
   ]
  },
  {
   "cell_type": "code",
   "execution_count": 1,
   "metadata": {},
   "outputs": [
    {
     "name": "stdout",
     "output_type": "stream",
     "text": [
      " enter your lower range:  1\n",
      " enter your upper range:  50\n",
      "2\n",
      "3\n",
      "5\n",
      "7\n",
      "11\n",
      "13\n",
      "17\n",
      "19\n",
      "23\n",
      "29\n",
      "31\n",
      "37\n",
      "41\n",
      "43\n",
      "47\n"
     ]
    }
   ],
   "source": [
    "#program \n",
    "lower = int(input(\" enter your lower range:  \")) \n",
    "upper = int(input(\" enter your upper range:  \"))\n",
    "\n",
    "for num in range (lower , upper + 1):\n",
    "    if num > 1:\n",
    "        for i in range( 2 , num):\n",
    "            if (num % i)== 0:\n",
    "                break\n",
    "        else:\n",
    "            print(num)"
   ]
  },
  {
   "cell_type": "markdown",
   "metadata": {},
   "source": [
    "#### control statements "
   ]
  },
  {
   "cell_type": "code",
   "execution_count": 7,
   "metadata": {},
   "outputs": [
    {
     "name": "stdout",
     "output_type": "stream",
     "text": [
      "0\n",
      "1\n",
      "2\n",
      "3\n",
      "4\n",
      "5\n",
      "6\n",
      "7\n",
      "8\n",
      "9\n",
      "10\n"
     ]
    }
   ],
   "source": [
    "for i in range(100):\n",
    "    print(i)\n",
    "    if i==10:\n",
    "        break"
   ]
  },
  {
   "cell_type": "code",
   "execution_count": 9,
   "metadata": {},
   "outputs": [
    {
     "name": "stdout",
     "output_type": "stream",
     "text": [
      "0\n",
      "1\n",
      "2\n",
      "3\n",
      "4\n",
      "5\n",
      "6\n",
      "7\n",
      "8\n",
      "9\n"
     ]
    }
   ],
   "source": [
    "for i in range(10):\n",
    "    print(i)\n",
    "    if i==5:\n",
    "        continue"
   ]
  },
  {
   "cell_type": "code",
   "execution_count": 4,
   "metadata": {},
   "outputs": [
    {
     "name": "stdout",
     "output_type": "stream",
     "text": [
      "apple\n",
      "cherry\n"
     ]
    }
   ],
   "source": [
    "l1=['apple','cherry','berry','papaya','grapes']\n",
    "for i in l1:\n",
    "    if i=='berry':\n",
    "        break\n",
    "    print(i)"
   ]
  },
  {
   "cell_type": "code",
   "execution_count": 5,
   "metadata": {},
   "outputs": [
    {
     "name": "stdout",
     "output_type": "stream",
     "text": [
      "apple\n",
      "cherry\n",
      "papaya\n",
      "grapes\n"
     ]
    }
   ],
   "source": [
    "l1=['apple','cherry','berry','papaya','grapes']\n",
    "for i in l1:\n",
    "    if i=='berry':\n",
    "        continue\n",
    "    print(i)"
   ]
  },
  {
   "cell_type": "code",
   "execution_count": 9,
   "metadata": {},
   "outputs": [
    {
     "name": "stdout",
     "output_type": "stream",
     "text": [
      "apple\n",
      "cherry\n",
      "berry\n",
      "papaya\n",
      "grapes\n"
     ]
    }
   ],
   "source": [
    "l1=['apple','cherry','berry','papaya','grapes']\n",
    "for i in l1:\n",
    "    if i=='berry':\n",
    "        pass\n",
    "    print(i)"
   ]
  },
  {
   "cell_type": "markdown",
   "metadata": {},
   "source": [
    "## Exercise"
   ]
  },
  {
   "cell_type": "code",
   "execution_count": 12,
   "metadata": {},
   "outputs": [
    {
     "name": "stdout",
     "output_type": "stream",
     "text": [
      "a\n",
      "b\n",
      "c\n",
      "ab\n",
      "bc\n",
      "ca\n",
      "abc\n"
     ]
    }
   ],
   "source": [
    "#print all elements of a list using for loop.\n",
    "list_1=['a','b','c','ab','bc','ca','abc']\n",
    "for i in list_1:\n",
    "    print(i)"
   ]
  },
  {
   "cell_type": "code",
   "execution_count": 2,
   "metadata": {},
   "outputs": [
    {
     "name": "stdout",
     "output_type": "stream",
     "text": [
      "enter the no. of elements to be in list: 6\n",
      "enter the element: 1\n",
      "enter the element: 2\n",
      "enter the element: 3\n",
      "enter the element: 4\n",
      "enter the element: 5\n",
      "enter the element: 6\n",
      "your list is ready\n",
      "[0, 1, 2, 3, 4, 5, 6]\n",
      "enter the element to be searched:6\n",
      "item not found!!!\n",
      "item not found!!!\n",
      "item not found!!!\n",
      "item not found!!!\n",
      "item not found!!!\n",
      "item not found!!!\n",
      "item found...\n",
      "6 is deleted.\n",
      "[0, 1, 2, 3, 4, 5]\n"
     ]
    }
   ],
   "source": [
    "# Take inputs from user to make a list. Again take one input from user and search it in the list and delete that element, if \n",
    "# found. Iterate over list using for loop.\n",
    "x=int(input('enter the no. of elements to be in list: '))\n",
    "list_1=[0]\n",
    "for i in list_1:\n",
    "    if len(list_1)<x+1:\n",
    "        y=int(input(\"enter the element: \"))\n",
    "        list_1.append(y)\n",
    "print('your list is ready')\n",
    "print(list_1)\n",
    "z=int(input('enter the element to be searched:'))\n",
    "for j in list_1:\n",
    "    if j == z:\n",
    "        print('item found...')\n",
    "        list_1.remove(z)\n",
    "        print(z,'is deleted.')\n",
    "    else:\n",
    "        print(\"item not found!!!\")\n",
    "print(list_1)        "
   ]
  },
  {
   "cell_type": "code",
   "execution_count": 4,
   "metadata": {},
   "outputs": [
    {
     "name": "stdout",
     "output_type": "stream",
     "text": [
      "[9, 49, 81, 25, 144, 1, 441, 361]\n"
     ]
    }
   ],
   "source": [
    "#You are given with a list of integer elements. Make a new list which will store square of elements of previous list.\n",
    "list_1=[3,7,9,5,12,1,21,19]\n",
    "list_2=[]\n",
    "for i in list_1:\n",
    "    list_2.append(i**2)\n",
    "print(list_2)"
   ]
  },
  {
   "cell_type": "code",
   "execution_count": 6,
   "metadata": {},
   "outputs": [
    {
     "name": "stdout",
     "output_type": "stream",
     "text": [
      "list for even nos.- [2, 4, 6, 8, 10, 12, 14, 16, 18, 20, 22, 24, 26, 28, 30, 32, 34, 36, 38, 40, 42, 44, 46, 48, 50, 52, 54, 56, 58, 60, 62, 64, 66, 68, 70, 72, 74, 76, 78, 80, 82, 84, 86, 88, 90, 92, 94, 96, 98, 100]\n",
      "list for odd nos.- [1, 3, 5, 7, 9, 11, 13, 15, 17, 19, 21, 23, 25, 27, 29, 31, 33, 35, 37, 39, 41, 43, 45, 47, 49, 51, 53, 55, 57, 59, 61, 63, 65, 67, 69, 71, 73, 75, 77, 79, 81, 83, 85, 87, 89, 91, 93, 95, 97, 99]\n"
     ]
    }
   ],
   "source": [
    "#Using range(1,101), make two list, one containing all even numbers and other containing all odd numbers. \n",
    "x=range(1,101)\n",
    "list_even=[]\n",
    "list_odd=[]\n",
    "for i in x:\n",
    "    if i%2==0:\n",
    "        list_even.append(i)\n",
    "    else:\n",
    "        list_odd.append(i)\n",
    "print(\"list for even nos.-\",list_even)\n",
    "print(\"list for odd nos.-\",list_odd)"
   ]
  },
  {
   "cell_type": "code",
   "execution_count": 7,
   "metadata": {},
   "outputs": [],
   "source": [
    "# From the two list obtained in previous question, make new lists, containing only numbers which are divisible by 4, 6, 8, 10, \n",
    "# 3, 5, 7 and 9 in separate lists. "
   ]
  },
  {
   "cell_type": "code",
   "execution_count": 22,
   "metadata": {},
   "outputs": [
    {
     "name": "stdout",
     "output_type": "stream",
     "text": [
      "list for dividible by 3 is: [3, 6, 9, 12, 15, 18, 21, 24, 27, 30, 33, 36, 39, 42, 45, 48, 51, 54, 57, 60, 63, 66, 69, 72, 75, 78, 81, 84, 87, 90, 93, 96, 99]\n",
      "list for dividible by 5 is: [5, 10, 15, 20, 25, 30, 35, 40, 45, 50, 55, 60, 65, 70, 75, 80, 85, 90, 95, 100]\n",
      "list for dividible by 7 is: [7, 14, 21, 28, 35, 42, 49, 56, 63, 70, 77, 84, 91, 98]\n",
      "list for dividible by 9 is: [9, 18, 27, 36, 45, 54, 63, 72, 81, 90, 99]\n",
      "list for dividible by 10 is: [10, 20, 30, 40, 50, 60, 70, 80, 90, 100]\n",
      "list for dividible by 4 is: [4, 8, 12, 16, 20, 24, 28, 32, 36, 40, 44, 48, 52, 56, 60, 64, 68, 72, 76, 80, 84, 88, 92, 96, 100]\n",
      "list for dividible by 6 is: [6, 12, 18, 24, 30, 36, 42, 48, 54, 60, 66, 72, 78, 84, 90, 96]\n",
      "list for dividible by 8 is: [8, 16, 24, 32, 40, 48, 56, 64, 72, 80, 88, 96]\n"
     ]
    }
   ],
   "source": [
    "list_4=[]\n",
    "list_6=[]\n",
    "list_8=[]\n",
    "list_10=[]\n",
    "list_3=[]\n",
    "list_7=[]\n",
    "list_5=[]\n",
    "list_9=[]\n",
    "\n",
    "list_even\n",
    "list_odd\n",
    "\n",
    "for i in list_even:\n",
    "    if i%4==0:\n",
    "        list_4.append(i)\n",
    "    if i%6==0:\n",
    "        list_6.append(i)\n",
    "    if i%8==0:\n",
    "        list_8.append(i)\n",
    "    if i%10==0:\n",
    "        list_10.append(i)\n",
    "    if i%3==0:\n",
    "        list_3.append(i)\n",
    "    if i%5==0:\n",
    "        list_5.append(i)\n",
    "    if i%7==0:\n",
    "        list_7.append(i)\n",
    "    if i%9==0:\n",
    "        list_9.append(i)\n",
    "        \n",
    "for i in list_odd:\n",
    "    if i%3==0:\n",
    "        list_3.append(i)\n",
    "    if i%5==0:\n",
    "        list_5.append(i)\n",
    "    if i%7==0:\n",
    "        list_7.append(i)\n",
    "    if i%9==0:\n",
    "        list_9.append(i)\n",
    "        \n",
    "list_3.sort()\n",
    "list_5.sort()\n",
    "list_7.sort()\n",
    "list_9.sort()\n",
    "        \n",
    "print('list for dividible by 3 is:',list_3)     \n",
    "print('list for dividible by 5 is:',list_5) \n",
    "print('list for dividible by 7 is:',list_7) \n",
    "print('list for dividible by 9 is:',list_9) \n",
    "print('list for dividible by 10 is:',list_10) \n",
    "print('list for dividible by 4 is:',list_4) \n",
    "print('list for dividible by 6 is:',list_6) \n",
    "print('list for dividible by 8 is:',list_8) "
   ]
  },
  {
   "cell_type": "code",
   "execution_count": 25,
   "metadata": {},
   "outputs": [
    {
     "name": "stdout",
     "output_type": "stream",
     "text": [
      "integers are: [17, 23, 39]\n",
      "float values are: [72.6, 75.98, 68.7]\n",
      "strings are: ['sahil', 'rajeev', 'sourav']\n"
     ]
    }
   ],
   "source": [
    "#From a list containing ints, strings and floats, make three lists to store them separately.\n",
    "x=['sahil',17,72.6,'rajeev',23,75.98,'sourav',39,68.7]\n",
    "l_int=[]\n",
    "l_float=[]\n",
    "l_str=[]\n",
    "for i in x:\n",
    "    if type(i)==int:\n",
    "        l_int.append(i)\n",
    "    if type(i)==float:\n",
    "        l_float.append(i)\n",
    "    if type(i)==str:\n",
    "        l_str.append(i)\n",
    "print('integers are:',l_int) \n",
    "print('float values are:',l_float)\n",
    "print('strings are:',l_str)\n"
   ]
  },
  {
   "cell_type": "code",
   "execution_count": 28,
   "metadata": {},
   "outputs": [
    {
     "name": "stdout",
     "output_type": "stream",
     "text": [
      "[14, 28, 42, 56, 70, 84, 98, 112, 126, 140]\n"
     ]
    }
   ],
   "source": [
    "#print a table of 14 from a list having table of 12 stored in it.\n",
    "table_12=[12,24,36,48,60,72,84,96,108,120]\n",
    "table_14=[]\n",
    "x=2\n",
    "for i in table_12:\n",
    "    table_14.append(i+x)\n",
    "    x=x+2\n",
    "print(table_14)    "
   ]
  },
  {
   "cell_type": "code",
   "execution_count": null,
   "metadata": {},
   "outputs": [],
   "source": []
  }
 ],
 "metadata": {
  "kernelspec": {
   "display_name": "Python 3",
   "language": "python",
   "name": "python3"
  },
  "language_info": {
   "codemirror_mode": {
    "name": "ipython",
    "version": 3
   },
   "file_extension": ".py",
   "mimetype": "text/x-python",
   "name": "python",
   "nbconvert_exporter": "python",
   "pygments_lexer": "ipython3",
   "version": "3.7.1"
  }
 },
 "nbformat": 4,
 "nbformat_minor": 2
}
